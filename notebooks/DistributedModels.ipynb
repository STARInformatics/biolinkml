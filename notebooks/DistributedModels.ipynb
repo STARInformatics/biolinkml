{
 "cells": [
  {
   "cell_type": "markdown",
   "metadata": {
    "collapsed": true,
    "pycharm": {
     "name": "#%% md\n"
    }
   },
   "source": [
    "# How to extend a biolink modeling language (BiolinkML) model\n",
    "\n"
   ]
  },
  {
   "cell_type": "code",
   "execution_count": 13,
   "metadata": {
    "pycharm": {
     "is_executing": false,
     "name": "#%%\n"
    }
   },
   "outputs": [
    {
     "name": "stdout",
     "output_type": "stream",
     "text": [
      "Requirement already satisfied: yamlmagic in /Users/solbrig/.local/share/virtualenvs/biolinkml-UM_qfE51/lib/python3.7/site-packages (0.2.0)\n",
      "Processing /Users/solbrig/git/biolink/biolinkml\n",
      "Requirement already satisfied: argparse>=1.4.0 in /Users/solbrig/.local/share/virtualenvs/biolinkml-UM_qfE51/lib/python3.7/site-packages (from biolinkml==1.4.9.dev15) (1.4.0)\n",
      "Requirement already satisfied: click>=7.0 in /Users/solbrig/.local/share/virtualenvs/biolinkml-UM_qfE51/lib/python3.7/site-packages (from biolinkml==1.4.9.dev15) (7.0)\n",
      "Requirement already satisfied: graphviz>=0.10.1 in /Users/solbrig/.local/share/virtualenvs/biolinkml-UM_qfE51/lib/python3.7/site-packages (from biolinkml==1.4.9.dev15) (0.13)\n",
      "Requirement already satisfied: jsonasobj>=1.2.1 in /Users/solbrig/.local/share/virtualenvs/biolinkml-UM_qfE51/lib/python3.7/site-packages (from biolinkml==1.4.9.dev15) (1.2.1)\n",
      "Requirement already satisfied: jsonschema>=3.0.1 in /Users/solbrig/.local/share/virtualenvs/biolinkml-UM_qfE51/lib/python3.7/site-packages (from biolinkml==1.4.9.dev15) (3.1.1)\n",
      "Requirement already satisfied: pipenv-to-requirements in /Users/solbrig/.local/share/virtualenvs/biolinkml-UM_qfE51/lib/python3.7/site-packages (from biolinkml==1.4.9.dev15) (0.8.2)\n",
      "Requirement already satisfied: prefixcommons>=0.1.7 in /Users/solbrig/.local/share/virtualenvs/biolinkml-UM_qfE51/lib/python3.7/site-packages (from biolinkml==1.4.9.dev15) (0.1.7)\n",
      "Requirement already satisfied: prologterms in /Users/solbrig/.local/share/virtualenvs/biolinkml-UM_qfE51/lib/python3.7/site-packages (from biolinkml==1.4.9.dev15) (0.0.6)\n",
      "Requirement already satisfied: pyjsg>=0.9.1 in /Users/solbrig/.local/share/virtualenvs/biolinkml-UM_qfE51/lib/python3.7/site-packages (from biolinkml==1.4.9.dev15) (0.9.1)\n",
      "Requirement already satisfied: pyshex>=0.7.11 in /Users/solbrig/.local/share/virtualenvs/biolinkml-UM_qfE51/lib/python3.7/site-packages (from biolinkml==1.4.9.dev15) (0.7.12)\n",
      "Requirement already satisfied: pyshexc in /Users/solbrig/.local/share/virtualenvs/biolinkml-UM_qfE51/lib/python3.7/site-packages (from biolinkml==1.4.9.dev15) (0.7.0)\n",
      "Requirement already satisfied: pyyaml>=5.1 in /Users/solbrig/.local/share/virtualenvs/biolinkml-UM_qfE51/lib/python3.7/site-packages (from biolinkml==1.4.9.dev15) (5.1.2)\n",
      "Requirement already satisfied: rdflib-jsonld in /Users/solbrig/.local/share/virtualenvs/biolinkml-UM_qfE51/lib/python3.7/site-packages (from biolinkml==1.4.9.dev15) (0.5.0.dev0)\n",
      "Requirement already satisfied: rdflib>=4.2.2 in /Users/solbrig/.local/share/virtualenvs/biolinkml-UM_qfE51/lib/python3.7/site-packages (from biolinkml==1.4.9.dev15) (4.2.2)\n",
      "Requirement already satisfied: requests>=2.22 in /Users/solbrig/.local/share/virtualenvs/biolinkml-UM_qfE51/lib/python3.7/site-packages (from biolinkml==1.4.9.dev15) (2.22.0)\n",
      "Requirement already satisfied: tox in /Users/solbrig/.local/share/virtualenvs/biolinkml-UM_qfE51/lib/python3.7/site-packages (from biolinkml==1.4.9.dev15) (3.14.0)\n",
      "Requirement already satisfied: virtualenv in /Users/solbrig/.local/share/virtualenvs/biolinkml-UM_qfE51/lib/python3.7/site-packages (from biolinkml==1.4.9.dev15) (16.7.6)\n",
      "Requirement already satisfied: watchdog in /Users/solbrig/.local/share/virtualenvs/biolinkml-UM_qfE51/lib/python3.7/site-packages (from biolinkml==1.4.9.dev15) (0.9.0)\n",
      "Requirement already satisfied: zipp in /Users/solbrig/.local/share/virtualenvs/biolinkml-UM_qfE51/lib/python3.7/site-packages (from biolinkml==1.4.9.dev15) (0.6.0)\n",
      "Requirement already satisfied: setuptools in /Users/solbrig/.local/share/virtualenvs/biolinkml-UM_qfE51/lib/python3.7/site-packages (from jsonschema>=3.0.1->biolinkml==1.4.9.dev15) (41.4.0)\n",
      "Requirement already satisfied: attrs>=17.4.0 in /Users/solbrig/.local/share/virtualenvs/biolinkml-UM_qfE51/lib/python3.7/site-packages (from jsonschema>=3.0.1->biolinkml==1.4.9.dev15) (19.3.0)\n",
      "Requirement already satisfied: six>=1.11.0 in /Users/solbrig/.local/share/virtualenvs/biolinkml-UM_qfE51/lib/python3.7/site-packages (from jsonschema>=3.0.1->biolinkml==1.4.9.dev15) (1.12.0)\n",
      "Requirement already satisfied: pyrsistent>=0.14.0 in /Users/solbrig/.local/share/virtualenvs/biolinkml-UM_qfE51/lib/python3.7/site-packages (from jsonschema>=3.0.1->biolinkml==1.4.9.dev15) (0.15.4)\n",
      "Requirement already satisfied: importlib-metadata in /Users/solbrig/.local/share/virtualenvs/biolinkml-UM_qfE51/lib/python3.7/site-packages (from jsonschema>=3.0.1->biolinkml==1.4.9.dev15) (0.23)\n",
      "Requirement already satisfied: pbr>=3.0 in /Users/solbrig/.local/share/virtualenvs/biolinkml-UM_qfE51/lib/python3.7/site-packages (from pipenv-to-requirements->biolinkml==1.4.9.dev15) (5.4.3)\n",
      "Requirement already satisfied: pipenv in /Users/solbrig/.local/share/virtualenvs/biolinkml-UM_qfE51/lib/python3.7/site-packages (from pipenv-to-requirements->biolinkml==1.4.9.dev15) (2018.11.26)\n",
      "Requirement already satisfied: cachier in /Users/solbrig/.local/share/virtualenvs/biolinkml-UM_qfE51/lib/python3.7/site-packages (from prefixcommons>=0.1.7->biolinkml==1.4.9.dev15) (1.2.6)\n",
      "Requirement already satisfied: antlr4-python3-runtime>=4.7 in /Users/solbrig/.local/share/virtualenvs/biolinkml-UM_qfE51/lib/python3.7/site-packages (from pyjsg>=0.9.1->biolinkml==1.4.9.dev15) (4.7.2)\n",
      "Requirement already satisfied: urllib3 in /Users/solbrig/.local/share/virtualenvs/biolinkml-UM_qfE51/lib/python3.7/site-packages (from pyshex>=0.7.11->biolinkml==1.4.9.dev15) (1.25.6)\n",
      "Requirement already satisfied: sparqlwrapper in /Users/solbrig/.local/share/virtualenvs/biolinkml-UM_qfE51/lib/python3.7/site-packages (from pyshex>=0.7.11->biolinkml==1.4.9.dev15) (1.8.4)\n",
      "Requirement already satisfied: sparql-slurper>=0.2.1 in /Users/solbrig/.local/share/virtualenvs/biolinkml-UM_qfE51/lib/python3.7/site-packages (from pyshex>=0.7.11->biolinkml==1.4.9.dev15) (0.2.2)\n",
      "Requirement already satisfied: shexjsg>=0.6.5 in /Users/solbrig/.local/share/virtualenvs/biolinkml-UM_qfE51/lib/python3.7/site-packages (from pyshex>=0.7.11->biolinkml==1.4.9.dev15) (0.6.8)\n",
      "Requirement already satisfied: cfgraph>=0.2.1 in /Users/solbrig/.local/share/virtualenvs/biolinkml-UM_qfE51/lib/python3.7/site-packages (from pyshex>=0.7.11->biolinkml==1.4.9.dev15) (0.2.1)\n",
      "Requirement already satisfied: certifi in /Users/solbrig/.local/share/virtualenvs/biolinkml-UM_qfE51/lib/python3.7/site-packages (from pyshexc->biolinkml==1.4.9.dev15) (2019.9.11)\n",
      "Requirement already satisfied: isodate in /Users/solbrig/.local/share/virtualenvs/biolinkml-UM_qfE51/lib/python3.7/site-packages (from rdflib>=4.2.2->biolinkml==1.4.9.dev15) (0.6.0)\n",
      "Requirement already satisfied: pyparsing in /Users/solbrig/.local/share/virtualenvs/biolinkml-UM_qfE51/lib/python3.7/site-packages (from rdflib>=4.2.2->biolinkml==1.4.9.dev15) (2.4.2)\n",
      "Requirement already satisfied: idna<2.9,>=2.5 in /Users/solbrig/.local/share/virtualenvs/biolinkml-UM_qfE51/lib/python3.7/site-packages (from requests>=2.22->biolinkml==1.4.9.dev15) (2.8)\n",
      "Requirement already satisfied: chardet<3.1.0,>=3.0.2 in /Users/solbrig/.local/share/virtualenvs/biolinkml-UM_qfE51/lib/python3.7/site-packages (from requests>=2.22->biolinkml==1.4.9.dev15) (3.0.4)\n",
      "Requirement already satisfied: py<2,>=1.4.17 in /Users/solbrig/.local/share/virtualenvs/biolinkml-UM_qfE51/lib/python3.7/site-packages (from tox->biolinkml==1.4.9.dev15) (1.8.0)\n",
      "Requirement already satisfied: filelock<4,>=3.0.0 in /Users/solbrig/.local/share/virtualenvs/biolinkml-UM_qfE51/lib/python3.7/site-packages (from tox->biolinkml==1.4.9.dev15) (3.0.12)\n",
      "Requirement already satisfied: packaging>=14 in /Users/solbrig/.local/share/virtualenvs/biolinkml-UM_qfE51/lib/python3.7/site-packages (from tox->biolinkml==1.4.9.dev15) (19.2)\n",
      "Requirement already satisfied: pluggy<1,>=0.12.0 in /Users/solbrig/.local/share/virtualenvs/biolinkml-UM_qfE51/lib/python3.7/site-packages (from tox->biolinkml==1.4.9.dev15) (0.13.0)\n",
      "Requirement already satisfied: toml>=0.9.4 in /Users/solbrig/.local/share/virtualenvs/biolinkml-UM_qfE51/lib/python3.7/site-packages (from tox->biolinkml==1.4.9.dev15) (0.10.0)\n",
      "Requirement already satisfied: pathtools>=0.1.1 in /Users/solbrig/.local/share/virtualenvs/biolinkml-UM_qfE51/lib/python3.7/site-packages (from watchdog->biolinkml==1.4.9.dev15) (0.1.2)\n",
      "Requirement already satisfied: argh>=0.24.1 in /Users/solbrig/.local/share/virtualenvs/biolinkml-UM_qfE51/lib/python3.7/site-packages (from watchdog->biolinkml==1.4.9.dev15) (0.26.2)\n",
      "Requirement already satisfied: more-itertools in /Users/solbrig/.local/share/virtualenvs/biolinkml-UM_qfE51/lib/python3.7/site-packages (from zipp->biolinkml==1.4.9.dev15) (7.2.0)\n",
      "Requirement already satisfied: virtualenv-clone>=0.2.5 in /Users/solbrig/.local/share/virtualenvs/biolinkml-UM_qfE51/lib/python3.7/site-packages (from pipenv->pipenv-to-requirements->biolinkml==1.4.9.dev15) (0.5.3)\n",
      "Requirement already satisfied: pip>=9.0.1 in /Users/solbrig/.local/share/virtualenvs/biolinkml-UM_qfE51/lib/python3.7/site-packages (from pipenv->pipenv-to-requirements->biolinkml==1.4.9.dev15) (19.3.1)\n",
      "Requirement already satisfied: portalocker in /Users/solbrig/.local/share/virtualenvs/biolinkml-UM_qfE51/lib/python3.7/site-packages (from cachier->prefixcommons>=0.1.7->biolinkml==1.4.9.dev15) (1.5.1)\n"
     ]
    },
    {
     "name": "stdout",
     "output_type": "stream",
     "text": [
      "Building wheels for collected packages: biolinkml\n",
      "  Building wheel for biolinkml (setup.py) ... \u001b[?25ldone\n",
      "\u001b[?25h  Created wheel for biolinkml: filename=biolinkml-1.4.9.dev15-cp37-none-any.whl size=83255 sha256=db804593c42b65d7bec3f0d39c010a2c34e5dc3856cb00bb873fb47ef51a82e1\n",
      "  Stored in directory: /private/var/folders/5f/82515x2x1cl_5c4zqvyd15nm0000gp/T/pip-ephem-wheel-cache-0k5v6oys/wheels/6c/69/a8/bacbeba530bdf1dbbc4c414a00b26a368f2e430da2819d3e13\n",
      "Successfully built biolinkml\n",
      "Installing collected packages: biolinkml\n",
      "Successfully installed biolinkml-1.4.9.dev15\n"
     ]
    }
   ],
   "source": [
    "!pip install yamlmagic\n",
    "!pip install .."
   ]
  },
  {
   "cell_type": "code",
   "execution_count": 14,
   "metadata": {},
   "outputs": [
    {
     "name": "stdout",
     "output_type": "stream",
     "text": [
      "The yamlmagic extension is already loaded. To reload it, use:\n",
      "  %reload_ext yamlmagic\n"
     ]
    }
   ],
   "source": [
    "%load_ext yamlmagic"
   ]
  },
  {
   "cell_type": "code",
   "execution_count": 15,
   "metadata": {
    "pycharm": {
     "is_executing": false,
     "name": "#%% \n"
    }
   },
   "outputs": [
    {
     "data": {
      "application/javascript": [
       "\n",
       "            require(\n",
       "                [\n",
       "                    \"notebook/js/codecell\",\n",
       "                    \"codemirror/mode/yaml/yaml\"\n",
       "                ],\n",
       "                function(cc){\n",
       "                    cc.CodeCell.options_default.highlight_modes.magic_yaml = {\n",
       "                        reg: [\"^%%yaml\"]\n",
       "                    }\n",
       "                }\n",
       "            );\n",
       "            "
      ],
      "text/plain": [
       "<IPython.core.display.Javascript object>"
      ]
     },
     "metadata": {},
     "output_type": "display_data"
    }
   ],
   "source": [
    "%%yaml model\n",
    "\n",
    "# Every model must have a globally unique URI. This is the external name of the model\n",
    "id: http://example.org/examples/distributeExample \n",
    "\n",
    "# Every model should also have a globally unique name (well, global within the context of the particular modeling environment)\n",
    "name: dist1\n",
    "\n",
    "# Descriptions are always useful, but not required\n",
    "description: A toy extension to the base biolink model\n",
    "\n",
    "# Versions are recommended but not required.  The version is copied into the output artifacts.  An error will be raised\n",
    "# if two different versions of the same model are imported\n",
    "version: 0.0.1\n",
    "\n",
    "# A license is not required at this point -- should it be?\n",
    "license: https://creativecommons.org/publicdomain/zero/1.0/\n",
    "                                                         \n",
    "# Prefixes can be assigned specifically.  We define two below:\n",
    "#   biolink -- the prefix used by the biolink-model\n",
    "#   dist1 -- the URI prefix used by this example.  Note that the dist1 prefix may or may not align with the model id\n",
    "prefixes:\n",
    "  biolink: https://w3id.org/biolink/vocab/\n",
    "  biolinkml: https://w3id.org/biolink/biolinkml/\n",
    "  dist: http://example.org/examples/dist1#\n",
    "\n",
    "# Prefixes can also be pulled from a prefixcommons compliant site. The map below uses the definitions found in\n",
    "#     https://github.com/prefixcommons/biocontext/blob/master/registry/semweb_context.yaml.\n",
    "default_curi_maps:\n",
    "  - semweb_context\n",
    "\n",
    "# The default prefix is what is used in the subsets, types, slots, classes sections below if not otherwise supplied\n",
    "default_prefix:  dist\n",
    "default_range: string\n",
    "\n",
    "# The list of prefixes to emit target files.  Note that all prefixes that are used elsewhere in the model are automatically\n",
    "# emitted, with the exception of \n",
    "emit_prefixes:\n",
    "    - skos\n",
    "    - rdf\n",
    "    - dist\n",
    "\n",
    "# List of models to import.  Note that import specifications can (currently) be URI's, absolute (file://...file), curies\n",
    "# (biolink:model), or relative (includes/myfile) file names.  Note, however, that this latter form is being deprecated.  \n",
    "# The location of imported files can now be specified in an accompanying mapping file.  The imports below reference:\n",
    "#   https://w3id.org/biolink/biolink-model    -- the biolink model\n",
    "#   https://w3id.org/biolink/biolinkml/types  -- the biolink modeling language types definitions\n",
    "imports: \n",
    "  - https://w3id.org/biolink/biolink-model\n",
    "  - biolinkml:types\n",
    "\n",
    "# Subsets that are defined in this model extension\n",
    "subsets:\n",
    "    experimental:\n",
    "        # A subset should have a description\n",
    "        description: model elements that have not yet been tested\n",
    "\n",
    "# Types that are defined in this model extension\n",
    "types:\n",
    "  gene sequence:\n",
    "    uri: dist:seq\n",
    "    typeof: string\n",
    "    description: A gene sequence\n",
    "        \n",
    "# Slots that are defined in this model extension\n",
    "slots:\n",
    "    gene has sequence:\n",
    "        description: A gene pattern\n",
    "        domain: gene\n",
    "        range: gene sequence\n",
    "        slot_uri: dist:hasSeq\n",
    "        required: true\n",
    "\n",
    "# Classes that are defined in this model extension\n",
    "classes:\n",
    "    # The class name.  For most generators, this will be transformed to CamelCase (MyGene)\n",
    "    my gene:\n",
    "        description: This is an example extension.  Doesn't do a lot\n",
    "        is_a: gene\n",
    "        slots:\n",
    "            - gene has sequence\n",
    "    \n",
    "    "
   ]
  },
  {
   "cell_type": "code",
   "execution_count": 18,
   "metadata": {},
   "outputs": [
    {
     "name": "stderr",
     "output_type": "stream",
     "text": [
      "WARNING:PythonGenerator:class \"pairwise interaction association\" slot \"interacting molecules category\" does not reference an existing slot.  New slot was created.\n",
      "WARNING:PythonGenerator:Unrecognized prefix: SEMMEDDB\n",
      "WARNING:PythonGenerator:Unrecognized prefix: WD\n",
      "WARNING:PythonGenerator:Unrecognized prefix: dct\n",
      "WARNING:PythonGenerator:Unrecognized prefix: ExO\n",
      "WARNING:PythonGenerator:Unrecognized prefix: HANCESTRO\n",
      "WARNING:PythonGenerator:Unrecognized prefix: BioSample\n",
      "WARNING:PythonGenerator:Unrecognized prefix: RNAcentral\n",
      "WARNING:PythonGenerator:Unrecognized prefix: IntAct\n",
      "WARNING:PythonGenerator:Unrecognized prefix: Reactome\n",
      "WARNING:PythonGenerator:Unrecognized prefix: VMC\n",
      "WARNING:PythonGenerator:Unrecognized prefix: CIViC\n",
      "WARNING:PythonGenerator:Unrecognized prefix: ECTO\n"
     ]
    }
   ],
   "source": [
    "\n",
    "from biolinkml.generators.pythongen import PythonGenerator\n",
    "from logging import ERROR\n",
    "\n",
    "# Note: Jupyter appears to generate output even if the log_level is set.  \n",
    "gen = PythonGenerator(model, log_level=ERROR)\n",
    "print(gen.serialize())"
   ]
  },
  {
   "cell_type": "code",
   "execution_count": null,
   "metadata": {},
   "outputs": [],
   "source": []
  }
 ],
 "metadata": {
  "kernelspec": {
   "display_name": "Python 3",
   "language": "python",
   "name": "python3"
  },
  "language_info": {
   "codemirror_mode": {
    "name": "ipython",
    "version": 3
   },
   "file_extension": ".py",
   "mimetype": "text/x-python",
   "name": "python",
   "nbconvert_exporter": "python",
   "pygments_lexer": "ipython3",
   "version": "3.7.4"
  },
  "pycharm": {
   "stem_cell": {
    "cell_type": "raw",
    "metadata": {
     "collapsed": false
    },
    "source": []
   }
  }
 },
 "nbformat": 4,
 "nbformat_minor": 1
}
